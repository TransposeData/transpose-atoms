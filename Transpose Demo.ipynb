{
 "cells": [
  {
   "cell_type": "markdown",
   "id": "bfb6b014",
   "metadata": {},
   "source": [
    "# Transpose Demo\n",
    "\n",
    "#### Today's Topics\n",
    "1. Transactions and Blocks\n",
    "2. NFTs\n",
    "3. Fungible Tokens\n",
    "4. Accounts\n",
    "5. What Next?"
   ]
  },
  {
   "cell_type": "markdown",
   "id": "5dea17a4",
   "metadata": {},
   "source": [
    "## Transactions and Blocks"
   ]
  },
  {
   "cell_type": "code",
   "execution_count": 3,
   "id": "471c9b1c",
   "metadata": {},
   "outputs": [
    {
     "ename": "AttributeError",
     "evalue": "'Transpose' object has no attribute 'api_key'",
     "output_type": "error",
     "traceback": [
      "\u001b[0;31m---------------------------------------------------------------------------\u001b[0m",
      "\u001b[0;31mAttributeError\u001b[0m                            Traceback (most recent call last)",
      "Input \u001b[0;32mIn [3]\u001b[0m, in \u001b[0;36m<cell line: 7>\u001b[0;34m()\u001b[0m\n\u001b[1;32m      4\u001b[0m load_dotenv()\n\u001b[1;32m      6\u001b[0m \u001b[38;5;66;03m# create a new API client with an API key\u001b[39;00m\n\u001b[0;32m----> 7\u001b[0m api \u001b[38;5;241m=\u001b[39m \u001b[43mTranspose\u001b[49m\u001b[43m(\u001b[49m\u001b[43mos\u001b[49m\u001b[38;5;241;43m.\u001b[39;49m\u001b[43menviron\u001b[49m\u001b[38;5;241;43m.\u001b[39;49m\u001b[43mget\u001b[49m\u001b[43m(\u001b[49m\u001b[38;5;124;43m'\u001b[39;49m\u001b[38;5;124;43mAPI_KEY\u001b[39;49m\u001b[38;5;124;43m'\u001b[39;49m\u001b[43m)\u001b[49m\u001b[43m)\u001b[49m\n",
      "File \u001b[0;32m/Library/Frameworks/Python.framework/Versions/3.8/lib/python3.8/site-packages/transpose/src/base.py:21\u001b[0m, in \u001b[0;36mTranspose.__init__\u001b[0;34m(self, api_key, verbose)\u001b[0m\n\u001b[1;32m     18\u001b[0m \u001b[38;5;28mself\u001b[39m\u001b[38;5;241m.\u001b[39mverbose \u001b[38;5;241m=\u001b[39m verbose\n\u001b[1;32m     20\u001b[0m \u001b[38;5;66;03m# verifies that the API key is valid\u001b[39;00m\n\u001b[0;32m---> 21\u001b[0m \u001b[38;5;28;01mif\u001b[39;00m \u001b[38;5;28;43mself\u001b[39;49m\u001b[38;5;241;43m.\u001b[39;49m\u001b[43mperform_authorized_request\u001b[49m\u001b[43m(\u001b[49m\u001b[43mBlock\u001b[49m\u001b[43m,\u001b[49m\u001b[43m \u001b[49m\u001b[38;5;124;43m'\u001b[39;49m\u001b[38;5;124;43mhttps://api.transpose.io/v0/block/blocks-by-number?block_number_below=1\u001b[39;49m\u001b[38;5;124;43m'\u001b[39;49m\u001b[43m,\u001b[49m\u001b[43m \u001b[49m\u001b[43mapi_key\u001b[49m\u001b[43m)\u001b[49m:\n\u001b[1;32m     22\u001b[0m     \u001b[38;5;28mself\u001b[39m\u001b[38;5;241m.\u001b[39mapi_key \u001b[38;5;241m=\u001b[39m api_key\n\u001b[1;32m     24\u001b[0m \u001b[38;5;66;03m# define the subclasses\u001b[39;00m\n",
      "File \u001b[0;32m/Library/Frameworks/Python.framework/Versions/3.8/lib/python3.8/site-packages/transpose/src/base.py:66\u001b[0m, in \u001b[0;36mTranspose.perform_authorized_request\u001b[0;34m(self, model, endpoint, api_key)\u001b[0m\n\u001b[1;32m     62\u001b[0m \u001b[38;5;28mprint\u001b[39m(endpoint) \u001b[38;5;28;01mif\u001b[39;00m \u001b[38;5;28mself\u001b[39m\u001b[38;5;241m.\u001b[39mverbose \u001b[38;5;28;01melse\u001b[39;00m \u001b[38;5;28;01mNone\u001b[39;00m\n\u001b[1;32m     64\u001b[0m \u001b[38;5;66;03m# build the request\u001b[39;00m\n\u001b[1;32m     65\u001b[0m request_headers \u001b[38;5;241m=\u001b[39m {\n\u001b[0;32m---> 66\u001b[0m     \u001b[38;5;124m'\u001b[39m\u001b[38;5;124mx-api-key\u001b[39m\u001b[38;5;124m'\u001b[39m: api_key \u001b[38;5;28;01mif\u001b[39;00m api_key \u001b[38;5;28;01melse\u001b[39;00m \u001b[38;5;28;43mself\u001b[39;49m\u001b[38;5;241;43m.\u001b[39;49m\u001b[43mapi_key\u001b[49m,\n\u001b[1;32m     67\u001b[0m     \u001b[38;5;124m'\u001b[39m\u001b[38;5;124mAccept\u001b[39m\u001b[38;5;124m'\u001b[39m: \u001b[38;5;124m'\u001b[39m\u001b[38;5;124mapplication/json\u001b[39m\u001b[38;5;124m'\u001b[39m,\n\u001b[1;32m     68\u001b[0m }\n\u001b[1;32m     69\u001b[0m request \u001b[38;5;241m=\u001b[39m requests\u001b[38;5;241m.\u001b[39mget(endpoint, headers\u001b[38;5;241m=\u001b[39mrequest_headers)\n\u001b[1;32m     71\u001b[0m \u001b[38;5;66;03m# check for a successful response\u001b[39;00m\n",
      "\u001b[0;31mAttributeError\u001b[0m: 'Transpose' object has no attribute 'api_key'"
     ]
    }
   ],
   "source": [
    "import os\n",
    "from transpose import Transpose\n",
    "from dotenv import load_dotenv\n",
    "load_dotenv()\n",
    "\n",
    "# create a new API client with an API key\n",
    "api = Transpose(os.environ.get('API_KEY'))"
   ]
  }
 ],
 "metadata": {
  "kernelspec": {
   "display_name": "Python 3 (ipykernel)",
   "language": "python",
   "name": "python3"
  },
  "language_info": {
   "codemirror_mode": {
    "name": "ipython",
    "version": 3
   },
   "file_extension": ".py",
   "mimetype": "text/x-python",
   "name": "python",
   "nbconvert_exporter": "python",
   "pygments_lexer": "ipython3",
   "version": "3.8.10"
  }
 },
 "nbformat": 4,
 "nbformat_minor": 5
}
