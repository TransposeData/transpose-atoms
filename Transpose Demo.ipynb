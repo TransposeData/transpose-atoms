{
 "cells": [
  {
   "cell_type": "markdown",
   "id": "7fececda",
   "metadata": {},
   "source": [
    "# Transpose Demo\n",
    "\n",
    "#### Today's Topics\n",
    "1. Transactions and Blocks\n",
    "2. NFTs\n",
    "3. Wallets\n",
    "4. Fungible Tokens"
   ]
  },
  {
   "cell_type": "markdown",
   "id": "f2d0aadb",
   "metadata": {},
   "source": [
    "## Transactions and Blocks"
   ]
  },
  {
   "cell_type": "code",
   "execution_count": null,
   "id": "894af840",
   "metadata": {},
   "outputs": [],
   "source": [
    "import os\n",
    "from transpose import Transpose\n",
    "\n",
    "# create a new API client with an API key\n",
    "api = Transpose(os.environ.get('TRANSPOSE_KEY'))"
   ]
  },
  {
   "cell_type": "markdown",
   "id": "c2ce9164",
   "metadata": {},
   "source": [
    "### Transactions - where everything starts"
   ]
  },
  {
   "cell_type": "code",
   "execution_count": null,
   "id": "6605156a",
   "metadata": {},
   "outputs": [],
   "source": [
    "# Transactions are the core primitive stored on the blockchain. Let's take a look\n",
    "txns = api.block.transactions_by_date(order='desc', limit=10)\n",
    "txns[0].to_dict()"
   ]
  },
  {
   "cell_type": "markdown",
   "id": "2ed57a2c",
   "metadata": {},
   "source": [
    "### Blocks"
   ]
  },
  {
   "cell_type": "code",
   "execution_count": null,
   "id": "9a862539",
   "metadata": {},
   "outputs": [],
   "source": [
    "# Transactions are grouped together into blocks, which are added sequentially to the chain\n",
    "blocks = api.block.blocks_by_number(order='desc', limit=10)\n",
    "blocks[0].to_dict()"
   ]
  },
  {
   "cell_type": "code",
   "execution_count": null,
   "id": "24021a3f",
   "metadata": {},
   "outputs": [],
   "source": [
    "# Let's try retrieving all the transactions in this block\n",
    "bn = 14980242\n",
    "block_txns = api.block.transactions_by_block(block_number_above=bn, block_number_below=bn, limit=500)\n",
    "print(\"Found {} txns for block {}\".format(len(block_txns), bn))\n",
    "block_txns[0].to_dict()"
   ]
  },
  {
   "cell_type": "markdown",
   "id": "01016445",
   "metadata": {},
   "source": [
    "### Logs"
   ]
  },
  {
   "cell_type": "code",
   "execution_count": null,
   "id": "49b59b99",
   "metadata": {},
   "outputs": [],
   "source": [
    "# Getting logs for a specific transaction\n",
    "logs = api.block.logs_by_transaction(block_txns[0].transaction_hash)\n",
    "logs[0].to_dict()"
   ]
  },
  {
   "cell_type": "markdown",
   "id": "90a86ca2",
   "metadata": {},
   "source": [
    "### Transactions and Blocks Summary\n",
    "\n",
    "- This is similar data to what you'd get from an RPC API\n",
    "- We provide it for completeness, but alone it's not easy to work with\n",
    "- Consistent data models help\n",
    "\n",
    "But working with blockchain data can be much easier."
   ]
  },
  {
   "cell_type": "markdown",
   "id": "35118d61",
   "metadata": {},
   "source": [
    "## NFTs\n",
    "\n",
    "- Retrieve info about a collection\n",
    "- Quickly retrieve cached images and metadata from the CDN\n",
    "- Query NFTs by owner\n",
    "- Work with trait data"
   ]
  },
  {
   "cell_type": "code",
   "execution_count": null,
   "id": "5324046e",
   "metadata": {},
   "outputs": [],
   "source": [
    "# Let's check out an NFT Contract\n",
    "\n",
    "bayc_contract_address = \"0xBC4CA0EdA7647A8aB7C2061c2E118A18a936f13D\"\n",
    "bayc = api.nft.collections_by_contract_address(bayc_contract_address)\n",
    "bayc[0].to_dict()"
   ]
  },
  {
   "cell_type": "code",
   "execution_count": null,
   "id": "1822ae0f",
   "metadata": {},
   "outputs": [],
   "source": [
    "# Let's take a look at the collection's icon\n",
    "from IPython.display import display\n",
    "\n",
    "display(api.cdn.query(bayc[0].image_url).image())"
   ]
  },
  {
   "cell_type": "code",
   "execution_count": null,
   "id": "9a8a23da",
   "metadata": {},
   "outputs": [],
   "source": [
    "# Now let's take a look at the first 500 NFTs in the Bored Ape collection\n",
    "\n",
    "nfts = api.nft.nfts_by_contract_address(bayc_contract_address, limit=500)\n",
    "print(\"{} nfts retrieved\\n\".format(len(nfts)))\n",
    "nfts[0].to_dict()"
   ]
  },
  {
   "cell_type": "code",
   "execution_count": null,
   "id": "2551db70",
   "metadata": {},
   "outputs": [],
   "source": [
    "img = api.cdn.query(nfts[5].image_url).image()\n",
    "display(img)"
   ]
  },
  {
   "cell_type": "markdown",
   "id": "f3a90ec9",
   "metadata": {},
   "source": [
    "## Wallet"
   ]
  },
  {
   "cell_type": "code",
   "execution_count": null,
   "id": "374225dd",
   "metadata": {},
   "outputs": [],
   "source": [
    "# Here's how we pull a wallet's nft balance\n",
    "\n",
    "wallet = '0x3f4C85754A36Cb81067a0A88Bb1f83B9Cef97a91'\n",
    "ens_address = \"0x57f1887a8BF19b14fC0dF6Fd9B2acc9Af147eA85\"\n",
    "\n",
    "all_nfts = api.nft.nfts_by_owner(wallet, limit=50)\n",
    "nfts = api.nft.nfts_by_owner(wallet, ens_address, limit=50)\n",
    "\n",
    "\n",
    "print(\"{} nfts retrieved\".format(len(all_nfts)))\n",
    "print(\"{} nfts retrieved when including only ENS NFTs\".format(len(nfts)))"
   ]
  },
  {
   "cell_type": "code",
   "execution_count": null,
   "id": "3746b566",
   "metadata": {
    "scrolled": true
   },
   "outputs": [],
   "source": [
    "nfts[1].to_dict()"
   ]
  },
  {
   "cell_type": "code",
   "execution_count": null,
   "id": "196901be",
   "metadata": {},
   "outputs": [],
   "source": [
    "# Token data is accessible the same way\n",
    "tokens = api.token.tokens_by_owner(wallet)\n",
    "len(tokens)"
   ]
  },
  {
   "cell_type": "markdown",
   "id": "12d6bd11",
   "metadata": {},
   "source": [
    "### Full support ERC-1155 Semi Fungible tokens\n",
    "\n",
    "Often used in gaming applications, these tokens include a balance."
   ]
  },
  {
   "cell_type": "code",
   "execution_count": null,
   "id": "707bdf17",
   "metadata": {},
   "outputs": [],
   "source": [
    "genesis_888 = '0x36d30B3b85255473D27dd0F7fD8F35e36a9d6F06'\n",
    "\n",
    "owners = api.nft.owners_by_contract_address(genesis_888, limit=500)\n",
    "owners[0].to_dict()"
   ]
  },
  {
   "cell_type": "markdown",
   "id": "c62c18a5",
   "metadata": {},
   "source": [
    "### All of a wallet's transfers are easily available"
   ]
  },
  {
   "cell_type": "code",
   "execution_count": null,
   "id": "cdd468fc",
   "metadata": {},
   "outputs": [],
   "source": [
    "# Pulling the wallet's activity is just as easy\n",
    "\n",
    "api.nft.transfers_by_account(wallet)[:3]"
   ]
  },
  {
   "cell_type": "code",
   "execution_count": null,
   "id": "718157d5",
   "metadata": {},
   "outputs": [],
   "source": [
    "api.nft.transfers_by_account(wallet, limit=1)[0].to_dict()"
   ]
  },
  {
   "cell_type": "markdown",
   "id": "48e6f29d",
   "metadata": {},
   "source": [
    "### Mints are pulled the same way"
   ]
  },
  {
   "cell_type": "code",
   "execution_count": null,
   "id": "77a8cc53",
   "metadata": {},
   "outputs": [],
   "source": [
    "api.nft.transfers_by_account(wallet, transfer_category='mint', limit=1)[0].to_dict()"
   ]
  },
  {
   "cell_type": "markdown",
   "id": "3b172a04",
   "metadata": {},
   "source": [
    "### Charting recent mints"
   ]
  },
  {
   "cell_type": "code",
   "execution_count": null,
   "id": "3d7c5068",
   "metadata": {},
   "outputs": [],
   "source": [
    "import pandas as pd\n",
    "from IPython.display import Image\n",
    "from transpose.extras import Plot\n",
    "import time\n",
    "\n",
    "t0 = time.time()\n",
    "crypto_kitties_address = '0x06012c8cf97BEaD5deAe237070F9587f8E7A266d'\n",
    "\n",
    "bulk_transfers = api.bulk_request(api.nft.transfers_by_contract_address(crypto_kitties_address, transfer_category='mint', limit=500, order='desc'), 20, 5000)\n",
    "print(\"{} mints retrieved\".format(len(bulk_transfers)))\n",
    "\n",
    "# Aggregate by day\n",
    "counts = {}\n",
    "for transfer in bulk_transfers:\n",
    "    if transfer.timestamp[:10] in counts.keys():\n",
    "        counts[transfer.timestamp[:10]] += 1\n",
    "    else:\n",
    "        counts[transfer.timestamp[:10]] = 1\n",
    "counts_list = [counts[x] for x in counts.keys()]\n",
    "x = pd.date_range(bulk_transfers[0].timestamp, bulk_transfers[-1].timestamp, periods=len(counts_list))\n",
    "\n",
    "# Set up chart\n",
    "chart = Plot(title=\"Last 5000 mints\")    \n",
    "chart.add_data({\n",
    "    'x': x,\n",
    "    'y': counts_list,\n",
    "    'y_axis': \"Number of mints\",\n",
    "    'x_axis': \"Time\"\n",
    "})\n",
    "\n",
    "print(\"Took {}s\".format(str(time.time() - t0)))\n",
    "chart.render(path='/Users/mcalvey/Documents/transpose/code.nosync/live-demo/img/transfers.png', format='png')\n",
    "Image(filename='/Users/mcalvey/Documents/transpose/code.nosync/live-demo/img/transfers.png')"
   ]
  },
  {
   "cell_type": "markdown",
   "id": "fe6b7007",
   "metadata": {},
   "source": [
    "## Fungible Tokens"
   ]
  },
  {
   "cell_type": "markdown",
   "id": "a97ec0e8",
   "metadata": {},
   "source": [
    "### Let's dive into WETH"
   ]
  },
  {
   "cell_type": "code",
   "execution_count": null,
   "id": "65508057",
   "metadata": {},
   "outputs": [],
   "source": [
    "# Let's pull top weth holders\n",
    "weth_address = \"0xC02aaA39b223FE8D0A0e5C4F27eAD9083C756Cc2\"\n",
    "top_holders = api.token.owners_by_contract_address(weth_address, limit=100)\n",
    "balances = [x.balance for x in top_holders]\n",
    "print(\"{} balances found\".format(len(balances)))"
   ]
  },
  {
   "cell_type": "code",
   "execution_count": null,
   "id": "7139bca3",
   "metadata": {},
   "outputs": [],
   "source": [
    "# How does this distribution look?\n",
    "chart = Plot(title=\"WETH top 500 holder distribution\")\n",
    "chart.add_data({\n",
    "    'x': list(range(len(balances))),\n",
    "    'y': balances,\n",
    "    'y_axis': 'Balance',\n",
    "    'x_axis': 'Holder'\n",
    "})\n",
    "chart.render(path='/Users/mcalvey/Documents/transpose/code.nosync/live-demo/img/transfers.png', format='png')\n",
    "Image(filename='/Users/mcalvey/Documents/transpose/code.nosync/live-demo/img/transfers.png')"
   ]
  },
  {
   "cell_type": "code",
   "execution_count": null,
   "id": "db80a669",
   "metadata": {},
   "outputs": [],
   "source": [
    "# Let's graph it\n",
    "import datetime\n",
    "import pandas as pd\n",
    "from IPython.display import Image\n",
    "from transpose.extras import Plot\n",
    "\n",
    "# Get data\n",
    "month_ago = datetime.datetime.now() - datetime.timedelta(days=31)\n",
    "bulk_transfers = api.bulk_request(api.token.transfers_by_contract_address(weth_address, transferred_after=month_ago, limit=500), 20, 10000)\n",
    "\n",
    "# Aggregate by day\n",
    "counts = {}\n",
    "for transfer in bulk_transfers:\n",
    "    if transfer.timestamp[:10] in counts.keys():\n",
    "        counts[transfer.timestamp[:10]] += 1\n",
    "    else:\n",
    "        counts[transfer.timestamp[:10]] = 1\n",
    "counts_list = [counts[x] for x in counts.keys()]\n",
    "x = pd.date_range(bulk_transfers[0].timestamp, bulk_transfers[-1].timestamp, periods=len(counts_list))\n",
    "\n",
    "print(len(counts))\n",
    "for i in counts.keys():\n",
    "    print(i)\n",
    "    print(counts[i])\n",
    "    break\n",
    "    \n",
    "# Set up chart\n",
    "chart = Plot(title=\"Last 100000 transfers\")    \n",
    "chart.add_data({\n",
    "    'x': x,\n",
    "    'y': counts_list,\n",
    "    'y_axis': \"Number of trades\",\n",
    "    'x_axis': \"Time\"\n",
    "})\n",
    "\n",
    "chart.render(path='/Users/mcalvey/Documents/transpose/code.nosync/live-demo/img/transfers.png', format='png')\n",
    "Image(filename='/Users/mcalvey/Documents/transpose/code.nosync/live-demo/img/transfers.png')"
   ]
  },
  {
   "cell_type": "markdown",
   "id": "a3bfb6a9",
   "metadata": {},
   "source": [
    "## Extras"
   ]
  },
  {
   "cell_type": "markdown",
   "id": "31c21d79",
   "metadata": {},
   "source": [
    "### Bored Ape Holder Analysis"
   ]
  },
  {
   "cell_type": "code",
   "execution_count": null,
   "id": "cc501774",
   "metadata": {},
   "outputs": [],
   "source": [
    "import time\n",
    "# Time to dive deeper into holder data\n",
    "\n",
    "# Get all holders of the NFT\n",
    "t0 = time.time()\n",
    "all_holders = api.bulk_request(api.nft.owners_by_contract_address(contract_address=bayc_contract_address, limit=500), 20, 10000)\n",
    "t1 = time.time()\n",
    "print(\"Took: {}\".format(t1 - t0))\n",
    "print(\"Total holders: \" + str(len(all_holders)))"
   ]
  },
  {
   "cell_type": "code",
   "execution_count": null,
   "id": "d83bc90a",
   "metadata": {},
   "outputs": [],
   "source": [
    "# calculate how many BAYC tokens are held by each holder\n",
    "\n",
    "number_owned_per_holder = {}\n",
    "for holder in all_holders:\n",
    "    if holder.owner in number_owned_per_holder: number_owned_per_holder[holder.owner] += 1\n",
    "    else: number_owned_per_holder[holder.owner] = 1\n",
    "sorted_holders = sorted(number_owned_per_holder.items(), key=lambda x: x[1], reverse=True)\n",
    "\n",
    "top_holder = sorted_holders[0][0]\n",
    "sorted_holders[:10]"
   ]
  },
  {
   "cell_type": "code",
   "execution_count": null,
   "id": "a440d1d9",
   "metadata": {},
   "outputs": [],
   "source": [
    "# Let's add ENS names\n",
    "named_holders = {}\n",
    "for holder in sorted_holders[:5]:\n",
    "    name = api.ens.primary_ens_records_by_account(holder[0])\n",
    "    if name != []:\n",
    "        named_holders[name[0].ens_name] = holder[1]\n",
    "    else:\n",
    "        named_holders[holder[0]] = holder[1]\n",
    "named_holders"
   ]
  },
  {
   "cell_type": "code",
   "execution_count": null,
   "id": "45bb947d",
   "metadata": {},
   "outputs": [],
   "source": [
    "# Let's dive into what else the top 10 holders own\n",
    "\n",
    "top_holders = sorted_holders[:5]\n",
    "top_overlapping_contracts = {}\n",
    "\n",
    "for holder in top_holders:\n",
    "    print(\"Checking account address: \" + holder[0])\n",
    "    # get all the nfts owned by the holder\n",
    "    all_nfts_owned = api.bulk_request(api.nft.nfts_by_owner(holder[0], limit=500))\n",
    "\n",
    "    # get the contract address for each NFT and save the number of NFTs owned by each holder\n",
    "    for nft in all_nfts_owned:\n",
    "        if nft.contract_address in top_overlapping_contracts: top_overlapping_contracts[nft.contract_address] += 1\n",
    "        else: top_overlapping_contracts[nft.contract_address] = 1\n",
    "\n",
    "sorted_contract_addresses = sorted(top_overlapping_contracts.items(), key=lambda x: x[1], reverse=True)\n",
    "sorted_contract_addresses[:10]\n",
    "\n",
    "named_contracts = {}\n",
    "for contract_address in sorted_contract_addresses[:10]:\n",
    "    name = api.nft.collections_by_contract_address(contract_address[0])[0].name\n",
    "    named_contracts[name] = contract_address[1]\n",
    "named_contracts\n"
   ]
  }
 ],
 "metadata": {
  "kernelspec": {
   "display_name": "Python 3 (ipykernel)",
   "language": "python",
   "name": "python3"
  },
  "language_info": {
   "codemirror_mode": {
    "name": "ipython",
    "version": 3
   },
   "file_extension": ".py",
   "mimetype": "text/x-python",
   "name": "python",
   "nbconvert_exporter": "python",
   "pygments_lexer": "ipython3",
   "version": "3.8.10"
  }
 },
 "nbformat": 4,
 "nbformat_minor": 5
}
